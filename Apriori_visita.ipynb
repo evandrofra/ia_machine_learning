{
  "nbformat": 4,
  "nbformat_minor": 0,
  "metadata": {
    "colab": {
      "provenance": [],
      "include_colab_link": true
    },
    "kernelspec": {
      "name": "python3",
      "display_name": "Python 3"
    }
  },
  "cells": [
    {
      "cell_type": "markdown",
      "metadata": {
        "id": "view-in-github",
        "colab_type": "text"
      },
      "source": [
        "<a href=\"https://colab.research.google.com/github/evandrofra/ia_machine_learning/blob/master/Apriori_visita.ipynb\" target=\"_parent\"><img src=\"https://colab.research.google.com/assets/colab-badge.svg\" alt=\"Open In Colab\"/></a>"
      ]
    },
    {
      "cell_type": "markdown",
      "metadata": {
        "id": "PPqDO4N5dQ0q"
      },
      "source": [
        "#### Exemplo de regras de associação\n",
        "- Entradas do arquivo são pontos visitados por turistas em uma cidade\n",
        "- Serão aplicadas técnicas para extração de regras"
      ]
    },
    {
      "cell_type": "code",
      "metadata": {
        "id": "iHYOIpckRoNv",
        "colab": {
          "base_uri": "https://localhost:8080/",
          "height": 170
        },
        "outputId": "1e7e4c0e-88d9-4982-c45e-e05ab65d9f39"
      },
      "source": [
        "! pip install apyori"
      ],
      "execution_count": null,
      "outputs": [
        {
          "output_type": "stream",
          "text": [
            "Collecting apyori\n",
            "  Downloading https://files.pythonhosted.org/packages/5e/62/5ffde5c473ea4b033490617ec5caa80d59804875ad3c3c57c0976533a21a/apyori-1.1.2.tar.gz\n",
            "Building wheels for collected packages: apyori\n",
            "  Building wheel for apyori (setup.py) ... \u001b[?25l\u001b[?25hdone\n",
            "  Created wheel for apyori: filename=apyori-1.1.2-cp36-none-any.whl size=5975 sha256=a03e0faa96582153e941762ca785b9a21a1468b604f8d20fc0e247612f7521d4\n",
            "  Stored in directory: /root/.cache/pip/wheels/5d/92/bb/474bbadbc8c0062b9eb168f69982a0443263f8ab1711a8cad0\n",
            "Successfully built apyori\n",
            "Installing collected packages: apyori\n",
            "Successfully installed apyori-1.1.2\n"
          ],
          "name": "stdout"
        }
      ]
    },
    {
      "cell_type": "markdown",
      "metadata": {
        "id": "IJu1EQ9zokW4"
      },
      "source": [
        "O arquivo será carregado para depois converter os dados em listas"
      ]
    },
    {
      "cell_type": "code",
      "metadata": {
        "id": "vabyn3Qud1ky",
        "colab": {
          "resources": {
            "http://localhost:8080/nbextensions/google.colab/files.js": {
              "data": "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",
              "ok": true,
              "headers": [
                [
                  "content-type",
                  "application/javascript"
                ]
              ],
              "status": 200,
              "status_text": ""
            }
          },
          "base_uri": "https://localhost:8080/",
          "height": 109
        },
        "outputId": "bc229957-90ae-412e-ee83-0c23727331cf"
      },
      "source": [
        "from google.colab import files\n",
        "files.upload()"
      ],
      "execution_count": null,
      "outputs": [
        {
          "output_type": "display_data",
          "data": {
            "text/html": [
              "\n",
              "     <input type=\"file\" id=\"files-a06ae8db-9ba9-4dea-bb55-877a7a015470\" name=\"files[]\" multiple disabled\n",
              "        style=\"border:none\" />\n",
              "     <output id=\"result-a06ae8db-9ba9-4dea-bb55-877a7a015470\">\n",
              "      Upload widget is only available when the cell has been executed in the\n",
              "      current browser session. Please rerun this cell to enable.\n",
              "      </output>\n",
              "      <script src=\"/nbextensions/google.colab/files.js\"></script> "
            ],
            "text/plain": [
              "<IPython.core.display.HTML object>"
            ]
          },
          "metadata": {
            "tags": []
          }
        },
        {
          "output_type": "stream",
          "text": [
            "Saving visitas_p.csv to visitas_p.csv\n"
          ],
          "name": "stdout"
        },
        {
          "output_type": "execute_result",
          "data": {
            "text/plain": [
              "{'visitas_p.csv': b'p1,p2,p3,p4,p5,p6,p9\\r\\np1,p3,p7,p9,p10\\r\\np1,p2,p4,p6,p8\\r\\np3,p4,p9,p10\\r\\np3,p5,p10\\r\\np1,p2,p6,p9\\r\\np2,p4,p6,p7,p10\\r\\np1,p2,p3,p4,p6,p9,p10\\r\\np3,p5,p8,p9,p10\\r\\np2,p3,p4,p5,p6,p9\\r\\np3,p5,p6,p7,p9,p10 \\r\\np1,p2,p4,p6,p8\\r\\np3,p4,p5,p6,p9,p10\\r\\np3,p5,p6,p10\\r\\np1,p2,p9\\r\\np2,p4,p7,p10\\r\\np1,p2,p4,p6,p7,p9,p10\\r\\np3,p5,p8,p9,p10\\r\\np1,p2,p3,p4,p6,p7,p9\\r\\np1,p7,p9,p10 \\r\\np1,p2,p4,p6,p8\\r\\np4,p9,p10\\r\\np3,p5,p7\\r\\np1,p2,p6,p7,p9\\r\\np2,p4,p6,p10\\r\\np1,p2,p3,p6,p9,p10\\r\\np3,p8,p9,p10\\r\\np2,p3,p4,p5,p6,p9\\r\\np3,p5,p6,p7,p9,p10 \\r\\np1,p2,p4,p5,p6,p8\\r\\np3,p4,p5,p6,p9,p10\\r\\np3,p5,p6,p10\\r\\np1,p2,p9\\r\\np2,p7,p9,p10\\r\\np1,p2,p4,p6,p7,p9,p10\\r\\np3,p5,p6,p8,p9,p10'}"
            ]
          },
          "metadata": {
            "tags": []
          },
          "execution_count": 2
        }
      ]
    },
    {
      "cell_type": "code",
      "metadata": {
        "id": "HF4mFBMcmcRN"
      },
      "source": [
        "# Abre sem cabeçalho, uma vez que na conversão para lista não é utilizado\n",
        "import pandas as pd\n",
        "visitas = pd.read_csv('visitas_p.csv', sep=',', header=None)"
      ],
      "execution_count": null,
      "outputs": []
    },
    {
      "cell_type": "markdown",
      "metadata": {
        "id": "0a0XTOSj-Qs5"
      },
      "source": [
        "É possível visualizar os atributos e tipos de dados de cada um.\n"
      ]
    },
    {
      "cell_type": "code",
      "metadata": {
        "id": "n843gd3fpDnP",
        "colab": {
          "base_uri": "https://localhost:8080/",
          "height": 638
        },
        "outputId": "d83729c8-e6c8-485e-af14-52321234a486"
      },
      "source": [
        "print(visitas)"
      ],
      "execution_count": null,
      "outputs": [
        {
          "output_type": "stream",
          "text": [
            "     0   1    2     3    4     5    6\n",
            "0   p1  p2   p3    p4   p5    p6   p9\n",
            "1   p1  p3   p7    p9  p10   NaN  NaN\n",
            "2   p1  p2   p4    p6   p8   NaN  NaN\n",
            "3   p3  p4   p9   p10  NaN   NaN  NaN\n",
            "4   p3  p5  p10   NaN  NaN   NaN  NaN\n",
            "5   p1  p2   p6    p9  NaN   NaN  NaN\n",
            "6   p2  p4   p6    p7  p10   NaN  NaN\n",
            "7   p1  p2   p3    p4   p6    p9  p10\n",
            "8   p3  p5   p8    p9  p10   NaN  NaN\n",
            "9   p2  p3   p4    p5   p6    p9  NaN\n",
            "10  p3  p5   p6    p7   p9  p10   NaN\n",
            "11  p1  p2   p4    p6   p8   NaN  NaN\n",
            "12  p3  p4   p5    p6   p9   p10  NaN\n",
            "13  p3  p5   p6   p10  NaN   NaN  NaN\n",
            "14  p1  p2   p9   NaN  NaN   NaN  NaN\n",
            "15  p2  p4   p7   p10  NaN   NaN  NaN\n",
            "16  p1  p2   p4    p6   p7    p9  p10\n",
            "17  p3  p5   p8    p9  p10   NaN  NaN\n",
            "18  p1  p2   p3    p4   p6    p7   p9\n",
            "19  p1  p7   p9  p10   NaN   NaN  NaN\n",
            "20  p1  p2   p4    p6   p8   NaN  NaN\n",
            "21  p4  p9  p10   NaN  NaN   NaN  NaN\n",
            "22  p3  p5   p7   NaN  NaN   NaN  NaN\n",
            "23  p1  p2   p6    p7   p9   NaN  NaN\n",
            "24  p2  p4   p6   p10  NaN   NaN  NaN\n",
            "25  p1  p2   p3    p6   p9   p10  NaN\n",
            "26  p3  p8   p9   p10  NaN   NaN  NaN\n",
            "27  p2  p3   p4    p5   p6    p9  NaN\n",
            "28  p3  p5   p6    p7   p9  p10   NaN\n",
            "29  p1  p2   p4    p5   p6    p8  NaN\n",
            "30  p3  p4   p5    p6   p9   p10  NaN\n",
            "31  p3  p5   p6   p10  NaN   NaN  NaN\n",
            "32  p1  p2   p9   NaN  NaN   NaN  NaN\n",
            "33  p2  p7   p9   p10  NaN   NaN  NaN\n",
            "34  p1  p2   p4    p6   p7    p9  p10\n",
            "35  p3  p5   p6    p8   p9   p10  NaN\n"
          ],
          "name": "stdout"
        }
      ]
    },
    {
      "cell_type": "markdown",
      "metadata": {
        "id": "WLTVf40ctfwN"
      },
      "source": [
        "#### Converte os dados do DF em uma lista de transações"
      ]
    },
    {
      "cell_type": "code",
      "metadata": {
        "id": "RPkSj1oGqcHu",
        "colab": {
          "base_uri": "https://localhost:8080/",
          "height": 54
        },
        "outputId": "d3725361-7384-436d-9690-685e9779c907"
      },
      "source": [
        "transacoes = []\n",
        "for i in range(0,35):\n",
        "  transacoes.append([str(visitas.values[i,j]) for j in range(6)])\n",
        "print(transacoes)\n"
      ],
      "execution_count": null,
      "outputs": [
        {
          "output_type": "stream",
          "text": [
            "[['p1', 'p2', 'p3', 'p4', 'p5', 'p6'], ['p1', 'p3', 'p7', 'p9', 'p10', 'nan'], ['p1', 'p2', 'p4', 'p6', 'p8', 'nan'], ['p3', 'p4', 'p9', 'p10', 'nan', 'nan'], ['p3', 'p5', 'p10', 'nan', 'nan', 'nan'], ['p1', 'p2', 'p6', 'p9', 'nan', 'nan'], ['p2', 'p4', 'p6', 'p7', 'p10', 'nan'], ['p1', 'p2', 'p3', 'p4', 'p6', 'p9'], ['p3', 'p5', 'p8', 'p9', 'p10', 'nan'], ['p2', 'p3', 'p4', 'p5', 'p6', 'p9'], ['p3', 'p5', 'p6', 'p7', 'p9', 'p10 '], ['p1', 'p2', 'p4', 'p6', 'p8', 'nan'], ['p3', 'p4', 'p5', 'p6', 'p9', 'p10'], ['p3', 'p5', 'p6', 'p10', 'nan', 'nan'], ['p1', 'p2', 'p9', 'nan', 'nan', 'nan'], ['p2', 'p4', 'p7', 'p10', 'nan', 'nan'], ['p1', 'p2', 'p4', 'p6', 'p7', 'p9'], ['p3', 'p5', 'p8', 'p9', 'p10', 'nan'], ['p1', 'p2', 'p3', 'p4', 'p6', 'p7'], ['p1', 'p7', 'p9', 'p10 ', 'nan', 'nan'], ['p1', 'p2', 'p4', 'p6', 'p8', 'nan'], ['p4', 'p9', 'p10', 'nan', 'nan', 'nan'], ['p3', 'p5', 'p7', 'nan', 'nan', 'nan'], ['p1', 'p2', 'p6', 'p7', 'p9', 'nan'], ['p2', 'p4', 'p6', 'p10', 'nan', 'nan'], ['p1', 'p2', 'p3', 'p6', 'p9', 'p10'], ['p3', 'p8', 'p9', 'p10', 'nan', 'nan'], ['p2', 'p3', 'p4', 'p5', 'p6', 'p9'], ['p3', 'p5', 'p6', 'p7', 'p9', 'p10 '], ['p1', 'p2', 'p4', 'p5', 'p6', 'p8'], ['p3', 'p4', 'p5', 'p6', 'p9', 'p10'], ['p3', 'p5', 'p6', 'p10', 'nan', 'nan'], ['p1', 'p2', 'p9', 'nan', 'nan', 'nan'], ['p2', 'p7', 'p9', 'p10', 'nan', 'nan'], ['p1', 'p2', 'p4', 'p6', 'p7', 'p9']]\n"
          ],
          "name": "stdout"
        }
      ]
    },
    {
      "cell_type": "code",
      "metadata": {
        "id": "F-GVH1iGoKas",
        "colab": {
          "base_uri": "https://localhost:8080/",
          "height": 605
        },
        "outputId": "b6310c09-c478-4fc5-a648-ed427a35feee"
      },
      "source": [
        "# Tirando os valores nulos\n",
        "transacoes_f = []\n",
        "for e in transacoes:\n",
        "  l1 =[]\n",
        "  for e1 in e:\n",
        "    #print(e1)\n",
        "    if e1 != 'nan':\n",
        "      l1.append(e1)\n",
        "  transacoes_f.append(l1)\n",
        "  print(l1)\n",
        "\n",
        "#print(transacoes_f)\n"
      ],
      "execution_count": null,
      "outputs": [
        {
          "output_type": "stream",
          "text": [
            "['p1', 'p2', 'p3', 'p4', 'p5', 'p6']\n",
            "['p1', 'p3', 'p7', 'p9', 'p10']\n",
            "['p1', 'p2', 'p4', 'p6', 'p8']\n",
            "['p3', 'p4', 'p9', 'p10']\n",
            "['p3', 'p5', 'p10']\n",
            "['p1', 'p2', 'p6', 'p9']\n",
            "['p2', 'p4', 'p6', 'p7', 'p10']\n",
            "['p1', 'p2', 'p3', 'p4', 'p6', 'p9']\n",
            "['p3', 'p5', 'p8', 'p9', 'p10']\n",
            "['p2', 'p3', 'p4', 'p5', 'p6', 'p9']\n",
            "['p3', 'p5', 'p6', 'p7', 'p9', 'p10 ']\n",
            "['p1', 'p2', 'p4', 'p6', 'p8']\n",
            "['p3', 'p4', 'p5', 'p6', 'p9', 'p10']\n",
            "['p3', 'p5', 'p6', 'p10']\n",
            "['p1', 'p2', 'p9']\n",
            "['p2', 'p4', 'p7', 'p10']\n",
            "['p1', 'p2', 'p4', 'p6', 'p7', 'p9']\n",
            "['p3', 'p5', 'p8', 'p9', 'p10']\n",
            "['p1', 'p2', 'p3', 'p4', 'p6', 'p7']\n",
            "['p1', 'p7', 'p9', 'p10 ']\n",
            "['p1', 'p2', 'p4', 'p6', 'p8']\n",
            "['p4', 'p9', 'p10']\n",
            "['p3', 'p5', 'p7']\n",
            "['p1', 'p2', 'p6', 'p7', 'p9']\n",
            "['p2', 'p4', 'p6', 'p10']\n",
            "['p1', 'p2', 'p3', 'p6', 'p9', 'p10']\n",
            "['p3', 'p8', 'p9', 'p10']\n",
            "['p2', 'p3', 'p4', 'p5', 'p6', 'p9']\n",
            "['p3', 'p5', 'p6', 'p7', 'p9', 'p10 ']\n",
            "['p1', 'p2', 'p4', 'p5', 'p6', 'p8']\n",
            "['p3', 'p4', 'p5', 'p6', 'p9', 'p10']\n",
            "['p3', 'p5', 'p6', 'p10']\n",
            "['p1', 'p2', 'p9']\n",
            "['p2', 'p7', 'p9', 'p10']\n",
            "['p1', 'p2', 'p4', 'p6', 'p7', 'p9']\n"
          ],
          "name": "stdout"
        }
      ]
    },
    {
      "cell_type": "markdown",
      "metadata": {
        "id": "FLr1VQxgIOoP"
      },
      "source": [
        "#### Aplicação do Apriori\n"
      ]
    },
    {
      "cell_type": "code",
      "metadata": {
        "id": "xlpjKtkD9ghZ",
        "colab": {
          "base_uri": "https://localhost:8080/",
          "height": 34
        },
        "outputId": "787317d3-a90b-4ce2-fa3b-5e90bc22f364"
      },
      "source": [
        "from apyori import apriori\n",
        "modelo = apriori(transacoes_f, min_support=0.20, min_confidence=0.70, min_lift=0.5)\n",
        "regras = list(modelo)\n",
        "regras.sort()\n",
        "print('Número de regras: ', len(regras))"
      ],
      "execution_count": null,
      "outputs": [
        {
          "output_type": "stream",
          "text": [
            "Número de regras:  20\n"
          ],
          "name": "stdout"
        }
      ]
    },
    {
      "cell_type": "code",
      "metadata": {
        "id": "BlVj5LQoJ2-G",
        "colab": {
          "base_uri": "https://localhost:8080/",
          "height": 373
        },
        "outputId": "06ac7f9f-aa46-4d18-fed1-ae6f0110162a"
      },
      "source": [
        "# Mostra as regras\n",
        "for i in range(len(regras)):\n",
        "  print(regras[i])"
      ],
      "execution_count": null,
      "outputs": [
        {
          "output_type": "stream",
          "text": [
            "RelationRecord(items=frozenset({'p1', 'p2'}), support=0.4, ordered_statistics=[OrderedStatistic(items_base=frozenset({'p1'}), items_add=frozenset({'p2'}), confidence=0.8750000000000001, lift=1.5312500000000002), OrderedStatistic(items_base=frozenset({'p2'}), items_add=frozenset({'p1'}), confidence=0.7000000000000001, lift=1.5312500000000002)])\n",
            "RelationRecord(items=frozenset({'p1', 'p6'}), support=0.34285714285714286, ordered_statistics=[OrderedStatistic(items_base=frozenset({'p1'}), items_add=frozenset({'p6'}), confidence=0.75, lift=1.1931818181818181)])\n",
            "RelationRecord(items=frozenset({'p4', 'p2'}), support=0.4, ordered_statistics=[OrderedStatistic(items_base=frozenset({'p2'}), items_add=frozenset({'p4'}), confidence=0.7000000000000001, lift=1.3611111111111114), OrderedStatistic(items_base=frozenset({'p4'}), items_add=frozenset({'p2'}), confidence=0.7777777777777779, lift=1.3611111111111114)])\n",
            "RelationRecord(items=frozenset({'p6', 'p2'}), support=0.45714285714285713, ordered_statistics=[OrderedStatistic(items_base=frozenset({'p2'}), items_add=frozenset({'p6'}), confidence=0.8, lift=1.272727272727273), OrderedStatistic(items_base=frozenset({'p6'}), items_add=frozenset({'p2'}), confidence=0.7272727272727273, lift=1.272727272727273)])\n",
            "RelationRecord(items=frozenset({'p3', 'p5'}), support=0.37142857142857144, ordered_statistics=[OrderedStatistic(items_base=frozenset({'p5'}), items_add=frozenset({'p3'}), confidence=0.9285714285714286, lift=1.710526315789474)])\n",
            "RelationRecord(items=frozenset({'p4', 'p6'}), support=0.42857142857142855, ordered_statistics=[OrderedStatistic(items_base=frozenset({'p4'}), items_add=frozenset({'p6'}), confidence=0.8333333333333334, lift=1.325757575757576)])\n",
            "RelationRecord(items=frozenset({'p6', 'p5'}), support=0.2857142857142857, ordered_statistics=[OrderedStatistic(items_base=frozenset({'p5'}), items_add=frozenset({'p6'}), confidence=0.7142857142857142, lift=1.1363636363636362)])\n",
            "RelationRecord(items=frozenset({'p1', 'p4', 'p2'}), support=0.2571428571428571, ordered_statistics=[OrderedStatistic(items_base=frozenset({'p1', 'p4'}), items_add=frozenset({'p2'}), confidence=1.0, lift=1.75)])\n",
            "RelationRecord(items=frozenset({'p1', 'p6', 'p2'}), support=0.34285714285714286, ordered_statistics=[OrderedStatistic(items_base=frozenset({'p1'}), items_add=frozenset({'p6', 'p2'}), confidence=0.75, lift=1.640625), OrderedStatistic(items_base=frozenset({'p1', 'p2'}), items_add=frozenset({'p6'}), confidence=0.8571428571428571, lift=1.3636363636363635), OrderedStatistic(items_base=frozenset({'p1', 'p6'}), items_add=frozenset({'p2'}), confidence=1.0, lift=1.75), OrderedStatistic(items_base=frozenset({'p6', 'p2'}), items_add=frozenset({'p1'}), confidence=0.75, lift=1.640625)])\n",
            "RelationRecord(items=frozenset({'p9', 'p1', 'p2'}), support=0.22857142857142856, ordered_statistics=[OrderedStatistic(items_base=frozenset({'p9', 'p1'}), items_add=frozenset({'p2'}), confidence=0.8, lift=1.4000000000000001), OrderedStatistic(items_base=frozenset({'p9', 'p2'}), items_add=frozenset({'p1'}), confidence=0.7272727272727273, lift=1.590909090909091)])\n",
            "RelationRecord(items=frozenset({'p6', 'p1', 'p4'}), support=0.2571428571428571, ordered_statistics=[OrderedStatistic(items_base=frozenset({'p1', 'p4'}), items_add=frozenset({'p6'}), confidence=1.0, lift=1.590909090909091), OrderedStatistic(items_base=frozenset({'p1', 'p6'}), items_add=frozenset({'p4'}), confidence=0.7499999999999999, lift=1.4583333333333333)])\n",
            "RelationRecord(items=frozenset({'p10', 'p3', 'p5'}), support=0.2, ordered_statistics=[OrderedStatistic(items_base=frozenset({'p10', 'p5'}), items_add=frozenset({'p3'}), confidence=1.0, lift=1.842105263157895)])\n",
            "RelationRecord(items=frozenset({'p9', 'p10', 'p3'}), support=0.22857142857142856, ordered_statistics=[OrderedStatistic(items_base=frozenset({'p10', 'p3'}), items_add=frozenset({'p9'}), confidence=0.7272727272727273, lift=1.15702479338843), OrderedStatistic(items_base=frozenset({'p9', 'p10'}), items_add=frozenset({'p3'}), confidence=0.8, lift=1.473684210526316)])\n",
            "RelationRecord(items=frozenset({'p4', 'p6', 'p2'}), support=0.37142857142857144, ordered_statistics=[OrderedStatistic(items_base=frozenset({'p4'}), items_add=frozenset({'p6', 'p2'}), confidence=0.7222222222222223, lift=1.5798611111111114), OrderedStatistic(items_base=frozenset({'p4', 'p2'}), items_add=frozenset({'p6'}), confidence=0.9285714285714286, lift=1.4772727272727273), OrderedStatistic(items_base=frozenset({'p6', 'p2'}), items_add=frozenset({'p4'}), confidence=0.8125, lift=1.5798611111111112), OrderedStatistic(items_base=frozenset({'p4', 'p6'}), items_add=frozenset({'p2'}), confidence=0.8666666666666667, lift=1.5166666666666668)])\n",
            "RelationRecord(items=frozenset({'p9', 'p6', 'p2'}), support=0.22857142857142856, ordered_statistics=[OrderedStatistic(items_base=frozenset({'p9', 'p2'}), items_add=frozenset({'p6'}), confidence=0.7272727272727273, lift=1.15702479338843)])\n",
            "RelationRecord(items=frozenset({'p4', 'p6', 'p3'}), support=0.2, ordered_statistics=[OrderedStatistic(items_base=frozenset({'p4', 'p3'}), items_add=frozenset({'p6'}), confidence=0.8750000000000001, lift=1.3920454545454548)])\n",
            "RelationRecord(items=frozenset({'p6', 'p3', 'p5'}), support=0.2571428571428571, ordered_statistics=[OrderedStatistic(items_base=frozenset({'p6', 'p3'}), items_add=frozenset({'p5'}), confidence=0.7499999999999999, lift=1.8749999999999996), OrderedStatistic(items_base=frozenset({'p6', 'p5'}), items_add=frozenset({'p3'}), confidence=0.8999999999999999, lift=1.6578947368421053)])\n",
            "RelationRecord(items=frozenset({'p9', 'p3', 'p5'}), support=0.22857142857142856, ordered_statistics=[OrderedStatistic(items_base=frozenset({'p9', 'p5'}), items_add=frozenset({'p3'}), confidence=1.0, lift=1.842105263157895)])\n",
            "RelationRecord(items=frozenset({'p9', 'p4', 'p6'}), support=0.2, ordered_statistics=[OrderedStatistic(items_base=frozenset({'p9', 'p4'}), items_add=frozenset({'p6'}), confidence=0.7777777777777779, lift=1.2373737373737377)])\n",
            "RelationRecord(items=frozenset({'p6', 'p1', 'p4', 'p2'}), support=0.2571428571428571, ordered_statistics=[OrderedStatistic(items_base=frozenset({'p1', 'p4'}), items_add=frozenset({'p6', 'p2'}), confidence=1.0, lift=2.1875), OrderedStatistic(items_base=frozenset({'p1', 'p6'}), items_add=frozenset({'p4', 'p2'}), confidence=0.7499999999999999, lift=1.8749999999999996), OrderedStatistic(items_base=frozenset({'p1', 'p4', 'p2'}), items_add=frozenset({'p6'}), confidence=1.0, lift=1.590909090909091), OrderedStatistic(items_base=frozenset({'p1', 'p6', 'p2'}), items_add=frozenset({'p4'}), confidence=0.7499999999999999, lift=1.4583333333333333), OrderedStatistic(items_base=frozenset({'p6', 'p1', 'p4'}), items_add=frozenset({'p2'}), confidence=1.0, lift=1.75)])\n"
          ],
          "name": "stdout"
        }
      ]
    },
    {
      "cell_type": "code",
      "metadata": {
        "id": "72mpr6XpsJvn"
      },
      "source": [
        "resultados = [list(x) for x in regras]\n",
        "resultados_det = []\n",
        "for j in range(0,7):\n",
        "    resultados_det.append([list(x) for x in resultados[j][2]])\n",
        "resultados_det"
      ],
      "execution_count": null,
      "outputs": []
    }
  ]
}