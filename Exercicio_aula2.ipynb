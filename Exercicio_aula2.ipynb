{
  "nbformat": 4,
  "nbformat_minor": 0,
  "metadata": {
    "colab": {
      "name": "Exercicio_aula2.ipynb",
      "provenance": [],
      "collapsed_sections": []
    },
    "kernelspec": {
      "name": "python3",
      "display_name": "Python 3"
    }
  },
  "cells": [
    {
      "cell_type": "markdown",
      "metadata": {
        "id": "wwSrfBkCyQgp",
        "colab_type": "text"
      },
      "source": [
        "#### Exercício prático - aula 2\n",
        "- Abrir dois documentos.\n",
        "- Realizar as operações indicadas."
      ]
    },
    {
      "cell_type": "code",
      "metadata": {
        "id": "m8PySe-4xqLl",
        "colab_type": "code",
        "colab": {}
      },
      "source": [
        "# Importa Pandas\n",
        "import pandas as pd "
      ],
      "execution_count": 1,
      "outputs": []
    },
    {
      "cell_type": "markdown",
      "metadata": {
        "id": "IJu1EQ9zokW4",
        "colab_type": "text"
      },
      "source": [
        "#### Abertura de arquivos\n",
        "- A operação de upload carrega o documento para o buffer\n",
        "- A cada execução é possível carregar um arquivo diferente"
      ]
    },
    {
      "cell_type": "code",
      "metadata": {
        "id": "vabyn3Qud1ky",
        "colab_type": "code",
        "colab": {
          "resources": {
            "http://localhost:8080/nbextensions/google.colab/files.js": {
              "data": "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",
              "ok": true,
              "headers": [
                [
                  "content-type",
                  "application/javascript"
                ]
              ],
              "status": 200,
              "status_text": ""
            }
          },
          "base_uri": "https://localhost:8080/",
          "height": 109
        },
        "outputId": "51593411-ab4d-48e4-8bcd-d65e319ed0ef"
      },
      "source": [
        "# Biblioteca do colaboratory para upload do documento\n",
        "from google.colab import files\n",
        "files.upload()"
      ],
      "execution_count": null,
      "outputs": [
        {
          "output_type": "display_data",
          "data": {
            "text/html": [
              "\n",
              "     <input type=\"file\" id=\"files-611f254f-d09f-4d2b-98e6-491b19bfa42a\" name=\"files[]\" multiple disabled\n",
              "        style=\"border:none\" />\n",
              "     <output id=\"result-611f254f-d09f-4d2b-98e6-491b19bfa42a\">\n",
              "      Upload widget is only available when the cell has been executed in the\n",
              "      current browser session. Please rerun this cell to enable.\n",
              "      </output>\n",
              "      <script src=\"/nbextensions/google.colab/files.js\"></script> "
            ],
            "text/plain": [
              "<IPython.core.display.HTML object>"
            ]
          },
          "metadata": {
            "tags": []
          }
        },
        {
          "output_type": "stream",
          "text": [
            "Saving vendas.csv to vendas.csv\n"
          ],
          "name": "stdout"
        },
        {
          "output_type": "execute_result",
          "data": {
            "text/plain": [
              "{'vendas.csv': b'cod_prod,qtde,preco\\r\\n10,1500,2.3\\r\\n10,180,2.2\\r\\n12,345,5.5\\r\\n15,1200,3.2\\r\\n12,800,5.5\\r\\n10,950,2.2\\r\\n15,2300,3\\r\\n20,500,7.8\\r\\n20,765,7.5\\r\\n15,890,3\\r\\n12,245,5.3\\r\\n20,800,7.5\\r\\n10,750,2.3\\r\\n15,600,3.2\\r\\n12,2100,5.5\\r\\n10,1800,2\\r\\n20,1300,7.5\\r\\n15,1100,3.1\\r\\n'}"
            ]
          },
          "metadata": {
            "tags": []
          },
          "execution_count": 3
        }
      ]
    },
    {
      "cell_type": "markdown",
      "metadata": {
        "id": "ASWhT8rIiFUI",
        "colab_type": "text"
      },
      "source": [
        "##### Métodos permitem abrir os dois arquivos que devem ter sido carregados para o buffer"
      ]
    },
    {
      "cell_type": "code",
      "metadata": {
        "id": "HF4mFBMcmcRN",
        "colab_type": "code",
        "colab": {}
      },
      "source": [
        "clientes = pd.read_excel('dados_vendas.xlsx', 'clientes')\n",
        "produtos = pd.read_csv('vendas.csv', sep=',')\n"
      ],
      "execution_count": null,
      "outputs": []
    },
    {
      "cell_type": "code",
      "metadata": {
        "id": "OE86SCaLxpc5",
        "colab_type": "code",
        "colab": {
          "base_uri": "https://localhost:8080/",
          "height": 782
        },
        "outputId": "e07249dd-9aed-4993-f833-400401a1f14f"
      },
      "source": [
        "# Mostra os dados dos produtos\n",
        "print(produtos)\n",
        "# Mostra dados dos clientes\n",
        "print(clientes)\n",
        "# Exibe os tipos das colunas\n",
        "print(produtos.dtypes)\n",
        "print(clientes.dtypes)"
      ],
      "execution_count": null,
      "outputs": [
        {
          "output_type": "stream",
          "text": [
            "    cod_prod  qtde  preco\n",
            "0         10  1500    2.3\n",
            "1         10   180    2.2\n",
            "2         12   345    5.5\n",
            "3         15  1200    3.2\n",
            "4         12   800    5.5\n",
            "5         10   950    2.2\n",
            "6         15  2300    3.0\n",
            "7         20   500    7.8\n",
            "8         20   765    7.5\n",
            "9         15   890    3.0\n",
            "10        12   245    5.3\n",
            "11        20   800    7.5\n",
            "12        10   750    2.3\n",
            "13        15   600    3.2\n",
            "14        12  2100    5.5\n",
            "15        10  1800    2.0\n",
            "16        20  1300    7.5\n",
            "17        15  1100    3.1\n",
            "   cliente          cidade\n",
            "0      abc      Santa Cruz\n",
            "1      xyz  Venancio Aires\n",
            "2      twa      Santa Cruz\n",
            "3      abc      Santa Cruz\n",
            "4      abc      Santa Cruz\n",
            "5      twa      Santa Cruz\n",
            "6      xyz  Venancio Aires\n",
            "7      xyz  Venancio Aires\n",
            "8      abc      Santa Cruz\n",
            "9      def         Lajeado\n",
            "10     def         Lajeado\n",
            "11     abc      Santa Cruz\n",
            "12     twa      Santa Cruz\n",
            "13     xyz  Venancio Aires\n",
            "14     abc      Santa Cruz\n",
            "15     def         Lajeado\n",
            "16     abc      Santa Cruz\n",
            "17     xyz  Venancio Aires\n",
            "cod_prod      int64\n",
            "qtde          int64\n",
            "preco       float64\n",
            "dtype: object\n",
            "cliente    object\n",
            "cidade     object\n",
            "dtype: object\n"
          ],
          "name": "stdout"
        }
      ]
    },
    {
      "cell_type": "markdown",
      "metadata": {
        "id": "uQ_kPOhO3mjh",
        "colab_type": "text"
      },
      "source": [
        "#### Usando describe para mostrar estatísticas de todos os atributos"
      ]
    },
    {
      "cell_type": "code",
      "metadata": {
        "id": "M3XAf4ih3sYO",
        "colab_type": "code",
        "colab": {
          "base_uri": "https://localhost:8080/",
          "height": 255
        },
        "outputId": "dc007edd-7515-4c7c-ec8a-974f9cf0f83b"
      },
      "source": [
        "# Describe é um metodo disponível na classe DataFrame\n",
        "# É interessante observar a diferença nos resultados em função dos tipos dos atributos\n",
        "print(produtos.describe())\n",
        "print(clientes.describe())"
      ],
      "execution_count": null,
      "outputs": [
        {
          "output_type": "stream",
          "text": [
            "        cod_prod         qtde      preco\n",
            "count  18.000000    18.000000  18.000000\n",
            "mean   14.055556  1006.944444   4.366667\n",
            "std     3.795853   605.023429   2.135967\n",
            "min    10.000000   180.000000   2.000000\n",
            "25%    10.500000   637.500000   2.475000\n",
            "50%    13.500000   845.000000   3.200000\n",
            "75%    15.000000  1275.000000   5.500000\n",
            "max    20.000000  2300.000000   7.800000\n",
            "       cliente      cidade\n",
            "count       18          18\n",
            "unique       4           3\n",
            "top        abc  Santa Cruz\n",
            "freq         7          10\n"
          ],
          "name": "stdout"
        }
      ]
    },
    {
      "cell_type": "markdown",
      "metadata": {
        "id": "fk-4C3sF4ZgI",
        "colab_type": "text"
      },
      "source": [
        "#### Mostrar vendas com quantidade maior do que 1000"
      ]
    },
    {
      "cell_type": "code",
      "metadata": {
        "id": "y-w6zGqT4eAH",
        "colab_type": "code",
        "colab": {
          "base_uri": "https://localhost:8080/",
          "height": 153
        },
        "outputId": "7f88fe12-ee2a-4fc9-c416-7767b00c5bb3"
      },
      "source": [
        "# Exibe as linhas do DF que atendem a condição\n",
        "print(produtos[produtos.qtde>1000])"
      ],
      "execution_count": null,
      "outputs": [
        {
          "output_type": "stream",
          "text": [
            "    cod_prod  qtde  preco\n",
            "0         10  1500    2.3\n",
            "3         15  1200    3.2\n",
            "6         15  2300    3.0\n",
            "14        12  2100    5.5\n",
            "15        10  1800    2.0\n",
            "16        20  1300    7.5\n",
            "17        15  1100    3.1\n"
          ],
          "name": "stdout"
        }
      ]
    },
    {
      "cell_type": "markdown",
      "metadata": {
        "id": "kg1h_vi84sYy",
        "colab_type": "text"
      },
      "source": [
        "#### Solicitar nome de uma cidade e mostrar na tela os clientes dela"
      ]
    },
    {
      "cell_type": "code",
      "metadata": {
        "id": "k2xhLp1Z4w2D",
        "colab_type": "code",
        "colab": {
          "base_uri": "https://localhost:8080/",
          "height": 221
        },
        "outputId": "0eb4101b-df78-4325-d579-88bb03dd39fe"
      },
      "source": [
        "# Pergunta o nome da cidade\n",
        "cidade_cons = input('Informe o nome da cidade: ')\n",
        "# Cria novo dataframe com as linhas que atendem o critério\n",
        "df_cid = clientes[clientes.cidade==cidade_cons]\n",
        "# Mostra somente o atributo cliente do novo DF\n",
        "print(df_cid['cliente'])"
      ],
      "execution_count": null,
      "outputs": [
        {
          "output_type": "stream",
          "text": [
            "Informe o nome da cidade: Santa Cruz\n",
            "0     abc\n",
            "2     twa\n",
            "3     abc\n",
            "4     abc\n",
            "5     twa\n",
            "8     abc\n",
            "11    abc\n",
            "12    twa\n",
            "14    abc\n",
            "16    abc\n",
            "Name: cliente, dtype: object\n"
          ],
          "name": "stdout"
        }
      ]
    },
    {
      "cell_type": "markdown",
      "metadata": {
        "id": "ctXA2oz85fYS",
        "colab_type": "text"
      },
      "source": [
        "#### Criar uma estrutura do tipo set (conjunto) com os códigos dos diferentes produtos vendidos. \n"
      ]
    },
    {
      "cell_type": "code",
      "metadata": {
        "id": "I055hs6i5sBl",
        "colab_type": "code",
        "colab": {
          "base_uri": "https://localhost:8080/",
          "height": 51
        },
        "outputId": "e29c3c74-275c-4d9a-d5ec-4f5e85a16c79"
      },
      "source": [
        "# A criação pode ser direta\n",
        "conj_prod = set(produtos['cod_prod'])\n",
        "print(conj_prod)\n",
        "# Usando lista\n",
        "ls_prod = list(produtos['cod_prod'])\n",
        "conj2_prod=set(ls_prod)\n",
        "print(conj2_prod)"
      ],
      "execution_count": null,
      "outputs": [
        {
          "output_type": "stream",
          "text": [
            "{10, 12, 20, 15}\n",
            "{10, 12, 20, 15}\n"
          ],
          "name": "stdout"
        }
      ]
    },
    {
      "cell_type": "markdown",
      "metadata": {
        "id": "J3UtdQMJ7Wiy",
        "colab_type": "text"
      },
      "source": [
        "#### o\tCriar duas listas com atributos numéricos (quantidade e preco)\n",
        "- Multiplicar valores das listas\n",
        "- Mostrar o valor de cada venda\n",
        "- Ordenar a lista da maior para menor\n",
        "- Mostras os últimos N e os primeiros N valores de quantidade, preco e valor total de venda"
      ]
    },
    {
      "cell_type": "code",
      "metadata": {
        "id": "oRjl5Ovg8ApJ",
        "colab_type": "code",
        "colab": {}
      },
      "source": [
        "# Criação das listas\n",
        "ls_qtde = list(produtos.qtde)\n",
        "ls_preco = list(produtos.preco)\n"
      ],
      "execution_count": null,
      "outputs": []
    },
    {
      "cell_type": "code",
      "metadata": {
        "id": "5h4o40Mu8PD8",
        "colab_type": "code",
        "colab": {
          "base_uri": "https://localhost:8080/",
          "height": 88
        },
        "outputId": "338b0cd5-3301-449f-ef41-4423e9a90cdc"
      },
      "source": [
        "# Multiplicação das listas\n",
        "ls_valor = []\n",
        "for qt, pr in zip(ls_qtde, ls_preco):\n",
        "  v_tot = qt*pr\n",
        "  ls_valor.append(v_tot)\n",
        "\n",
        "# Ordena e mostra a lista completa\n",
        "ls_valor.sort()\n",
        "print(ls_valor)\n",
        "# 5 primeiros\n",
        "print(ls_valor[0:5])\n",
        "# 5 últimos\n",
        "print(ls_valor[-5:])\n"
      ],
      "execution_count": null,
      "outputs": [
        {
          "output_type": "stream",
          "text": [
            "[396.00000000000006, 1298.5, 1724.9999999999998, 1897.5, 1920.0, 2090.0, 2670.0, 3410.0, 3449.9999999999995, 3600.0, 3840.0, 3900.0, 4400.0, 5737.5, 6000.0, 6900.0, 9750.0, 11550.0]\n",
            "[396.00000000000006, 1298.5, 1724.9999999999998, 1897.5, 1920.0]\n",
            "[5737.5, 6000.0, 6900.0, 9750.0, 11550.0]\n"
          ],
          "name": "stdout"
        }
      ]
    },
    {
      "cell_type": "markdown",
      "metadata": {
        "id": "2D1mJNox_qHL",
        "colab_type": "text"
      },
      "source": [
        "#### Última parte do exercício com clientes e cidades\n",
        "- Não foram criadas listas e sim conjuntos e séries\n",
        "- Listas são usadas dentro dos dicionários para armazenar clientes por cidade"
      ]
    },
    {
      "cell_type": "code",
      "metadata": {
        "id": "qLf0SoLpkR4f",
        "colab_type": "code",
        "colab": {
          "base_uri": "https://localhost:8080/",
          "height": 68
        },
        "outputId": "4c2400a1-9135-47c3-dd9d-22daf5bcb7c6"
      },
      "source": [
        "# Criação do dicionário de clientes por cidade\n",
        "# Inicialmente cria um conjunto com nomes de cidades (converte em conjunto para não ter duplicatas)\n",
        "cidades = set(clientes['cidade'])\n",
        "print(cidades)\n",
        "\n",
        "# Cria um dicionário vazio\n",
        "dic_cid = {}\n",
        "\n",
        "# Cria uma chave para cada cidade e attibui uma lista em branco\n",
        "for cid in cidades:\n",
        "  dic_cid[cid] = []\n",
        "\n",
        "# Cria duas series com nomes de clientes e cidades\n",
        "nomescli = clientes['cliente']\n",
        "nomescid = clientes['cidade']\n",
        "\n",
        "# Pega o nome do cliente e da cidade e em seguida verifica se o cliente já não está na lista associada a chave da cidade\n",
        "# Se não está adiciona (append) na lista\n",
        "for nomecli, nomecid in zip(nomescli, nomescid):\n",
        "  if nomecli not in dic_cid[nomecid]: \n",
        "    dic_cid[nomecid].append(nomecli)\n",
        "\n",
        "print(dic_cid)"
      ],
      "execution_count": null,
      "outputs": [
        {
          "output_type": "stream",
          "text": [
            "{'Lajeado', 'Santa Cruz', 'Venancio Aires'}\n",
            "<class 'pandas.core.series.Series'>\n",
            "{'Lajeado': ['def'], 'Santa Cruz': ['abc', 'twa'], 'Venancio Aires': ['xyz']}\n"
          ],
          "name": "stdout"
        }
      ]
    },
    {
      "cell_type": "code",
      "metadata": {
        "id": "5a29Hr-Ypc15",
        "colab_type": "code",
        "colab": {
          "base_uri": "https://localhost:8080/",
          "height": 51
        },
        "outputId": "6b8cb77f-73f3-438e-e327-edac4fbf013f"
      },
      "source": [
        "cidade_cons=input('Informe o nome da cidade: ')\n",
        "print('Lista de clientes: ', dic_cid[cidade_cons])"
      ],
      "execution_count": null,
      "outputs": [
        {
          "output_type": "stream",
          "text": [
            "Informe o nome da cidade: Santa Cruz\n",
            "Lista de clientes:  ['abc', 'twa']\n"
          ],
          "name": "stdout"
        }
      ]
    }
  ]
}